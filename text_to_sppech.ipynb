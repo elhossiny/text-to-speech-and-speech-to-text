{
  "nbformat": 4,
  "nbformat_minor": 0,
  "metadata": {
    "colab": {
      "name": "text_to_sppech.ipynb",
      "provenance": [],
      "collapsed_sections": []
    },
    "kernelspec": {
      "name": "python3",
      "display_name": "Python 3"
    },
    "language_info": {
      "name": "python"
    }
  },
  "cells": [
    {
      "cell_type": "code",
      "execution_count": null,
      "metadata": {
        "colab": {
          "base_uri": "https://localhost:8080/"
        },
        "id": "xYE2byfNWQDp",
        "outputId": "0e077796-c811-4a18-a83d-d39e59bea860"
      },
      "outputs": [
        {
          "output_type": "execute_result",
          "data": {
            "text/plain": [
              "32512"
            ]
          },
          "metadata": {},
          "execution_count": 3
        }
      ],
      "source": [
        "# Import the required module for text\n",
        "# to speech conversion\n",
        "from gtts import gTTS\n",
        "\n",
        "# This module is imported so that we can\n",
        "# play the converted audio\n",
        "import os\n",
        "\n",
        "# The text that you want to convert to audio\n",
        "mytext = 'Welcome to geeksforgeeks!'\n",
        "\n",
        "# Language in which you want to convert\n",
        "language = 'en'\n",
        "\n",
        "# Passing the text and language to the engine,\n",
        "# here we have marked slow=False. Which tells\n",
        "# the module that the converted audio should\n",
        "# have a high speed\n",
        "myobj = gTTS(text=mytext, lang=language, slow=False)\n",
        "\n",
        "# Saving the converted audio in a mp3 file named\n",
        "# welcome\n",
        "myobj.save(\"welcome.mp3\")\n",
        "\n",
        "# Playing the converted file"
      ]
    },
    {
      "cell_type": "code",
      "source": [
        "os.system(\"mpg321 welcome.mp3\")\n"
      ],
      "metadata": {
        "colab": {
          "base_uri": "https://localhost:8080/"
        },
        "id": "QKBpE6Mxzg5c",
        "outputId": "c493dea9-5037-4375-c0ac-92861b8102da"
      },
      "execution_count": null,
      "outputs": [
        {
          "output_type": "execute_result",
          "data": {
            "text/plain": [
              "32512"
            ]
          },
          "metadata": {},
          "execution_count": 4
        }
      ]
    },
    {
      "cell_type": "code",
      "source": [
        "import IPython\n",
        "IPython.display.Audio(\"welcome.mp3\")"
      ],
      "metadata": {
        "id": "-rFZDDZ2zzP7",
        "outputId": "69c4692c-e5b7-4a32-8e57-fcb5d5be99a4",
        "colab": {
          "base_uri": "https://localhost:8080/",
          "height": 75
        }
      },
      "execution_count": null,
      "outputs": [
        {
          "output_type": "execute_result",
          "data": {
            "text/plain": [
              "<IPython.lib.display.Audio object>"
            ],
            "text/html": [
              "\n",
              "                <audio controls=\"controls\" >\n",
              "                    <source src=\"data:audio/mpeg;base64,//NExAAQyDFQAUMYAH+IiE4AIIHwfHB8QDQfLnwQOcufLn1Ag4EPwfeD/xBnBOfEH9QIFDhcH3h/l3qBBwYLvBAocWD7z+Hy59QIdQYKHBOq/6PFEMQif/7NoQFgf+9F//NExA8VOyYgAZlQANtnHdXBRFjy5+IgsPyf/ypcjLr+hqIzjioTmf6vRanoY6ub/0tuis6EBKe7IZ//7vPV88x3PcwxydE///9O37sfNPVzEk+Ya4OEZo7Csk1hNZWE//NExA0VUcZ8AZuAAAoGMIUBjLSInSZ2Xlu2MGViwGJyDkMKgrYW8nAQQz5JU7ldSSZBiXWj9k1NT02/fVVW2/92qspA/Wcv/3q684xL/////9bLJpVnULUOR/Mm2DOQ//NExAoTmJp0AdtIAMRCFQhCcYF/GDJCCdN4CFZizABAhWt2JEhktaHIdmYMhuInVgw0K5TqGvLOolR8ylNRq3MkF7zgeP+d91w7///evR/9Cl/ULPRQCGEI4YmBiZYy//NExA4VQKJwAObeTAwEhA48ZOMO0A6aIjEzY0sMIWtyh9i4sJhBsJ8hqRasM6GrmE2PHLWNQNh5YSCGNCb3lLXOYhOKNzjQMKI+v///1Wu/fX+bk2E20gzsA8ghkK60//NExAwT8KaEANbwTBgq7Js5KWuSsEICasdGHAkUkcPg0GKAW67crMdTmdjzS2TMQpdXaCKY85uv6icWck5n1lKjguf/QYXf/////9+3+o4uvfqvSh3ClnV+ghaJknvw//NExA8USSqgANYacYyF4AX5WN+KRWVESdnrTMRgzvSSilSXAJCleUzYFYAvxOyURHuS6TOXDRqmtv2T7oIIUyYShuh4/8DOEPjlvnhh+dXn/uDEicqGy3UeRJ6TOPDo//NExBAVMS68AMYecIBrgenrwSkQ4k5ulb1xOXH2WNOQIimL6JMXhklgqIhB0LeINtfeaXznV6UrqLHxuPFc4FLbiCc2ZqrVBs4bFQwZFnK4fesyAdwyLqCuAZd70Yl0//NExA4SkTLIAGvYcAU1Qy1UyCDAQjT6CoVG/8IyKZPNFrIgl4dEUCsDxof/WuVv1cvSnV7m9hYj5luBty7zftdFIsDrBRBNehVusiBuq1iSgnFBXHGCTckmZ3rUVJyM//NExBYR0TrIAGvYcJTEFgUb++nJ2LD+N2BOHhPULjI+bp2TXvp071vmctX8zatVbhCRsUY5juKJPBI2l+OVbrKQEQJ80EA6IAWiP8s8YBERS4DacrTMMsRltHzK7GY5//NExCESoU7AAI4GlF+9jztMOdl++yp2n9or6Fsy071e+q/1SYyM8gwMPAQQKvl0SK1iZr7ulVdRiJcFOFRBJy8A6oBziyiyQxojkC9JNlqSKQyxELsZDWD3z55FiBGx//NExCkQ2V60AJxElRa/qnq37t97dWSuiiRZWNDMYCiL8Yl7+rj8qu77/4xo2y5HnLt1EyTqtBbrSoBswdtkLIoiumxxi8RIlRWxU+o//b6///8xHdkYKMPHwrULi8gD//NExDgQiWasAMwElEP5FP///36/WvTVuXu8+6F2RyBa8y/NE+7Ezb6Doru+1uRIcUWBNDbXpvKpcsbQh2k8/hvz7DuN//SqdUPceOes0GQYN7bEb/u/q7C9LHRLkcce//NExEgScKKcAM5eTD5tn6Kd5caOZEJvJqcPzFpSjaYigJrZr/5b5lPVy1lzLBkvPUwJQHVjIVOsdfyuEn1U1yX6+eKiIfo8kz5466RlqnhyS1D1YdJalReTI0sl3rtc//NExFESEJ6QAM4YTFKijShXwHAZKCNMBhMaQ6SmVYwhScUNZVwXDIKgSsRTYItE0CmVCqzVnFwPE1o2y51URa3rpzyZW+xJE2+36P//mgtEiY0x1oU5bhZXp2YjVynp//NExFsSgLJQAMJSTHWOX5Xta7rLa2vd5QZyMJEkAM2fahlYhumTrEPomkbaRayAPtsF8ojf92932d6m61pwgK5mPZKaniqJUCHvJgVcUEkDZQMDQWgshARtE4HsORnN//NExGQQaJ5IAVkQAAFPQGQHMGHE+LwgLOeL8T0c4EeHOHmPwdxhgV0mJ7tHmUzQwHe440QtBKnCX7c3Ws9zJZ41Pmzf+900HQUykKZmpM1//UyevdBkDFAwrdziklp///NExHUhSyKcAY9oAf/snq1so0dBDZFl1UlScpBV55mCzM5A+anJ6Liq6ued6taW3pjWp+Uk2Y4puVu4wTHEbkIgC0SCLjRvUuYlcmECFLUg4IHiF4YbDFlHwaVQyoi6//NExEIU4SKsAcxIAMa1C0kW9Ql3hm6Od3PYYSumldwt07aJODnL3U9naiKQzwD5b0gTOOou6z801ybrS4OdHVX6mcMCkClBg8kuckicvBw84bPx1vk5jZ++Z/93//P8//NExEEViaKoAHrMlMQwoGUKPIctF936NWlZUlTdfr1J9aqd3vVqUjjU5wZ95e5FFKxEgPQaYlI6lYxmAu3vhY0uS9Z81tHqPNFQ4ULDATxweMjA6V4hmpMRrro70c1u//NExD0fuwKcANPUuTCgyKpONOHJCEF0D43KHnGmy7WnMjzD3H+YxyHFSI4VSIwXmIYruebSyTfZv////qdoj75prJMRavV3nnuiSaOIHbOf/hbS9KfIpUmMo6MwA1tP//NExBEU2baoAMvWlEHGtwQIVcf6yjff+0pkuGPr5G/WS3ukNxY2pvaZ9d6I01Nw6RSP/P1z8bq/+r7iIMXbmXbDetVF3//67aGN7HdbhKqX5frF6jAKjkC2Tw4+FZyA//NExBAVUbacANSQlLHD4mhhnlrMiKAcGVWaozELPtcMeGgtS0iZC4EnUGoDVEX/ian2uDoyViAyPlftv/mV/uCA+vhnCUK60zWVWt2e////+uqXXOzlGtAyckCSxbzY//NExA0QuOKQAN6ecFMiKF9gbKS6Zbczv0qGTpUeNb82EurY73bEA8oTBnktBUb6PjO5GV7mv8FafW+oOf8oGiOd1W1gWrZfZBKY7iJsIEtOmRkBQQ5oPPKJZHez1XEB//NExB0SeRaEAOZecHjhncwliQ0t/esVMJMXqDWzyGUFdfWlxDzqDusFBbx6bgT5z/5Y1R7//6I71G3vyaG3QCoTMCXcwoC2GN0k8ApGGmgtdsaxzcMLgnunMq0xEEBt//NExCYRYP6EAOaScOvXe1AwEpyj5NABPMbFGTf3+okal41i25KpIT//99aKWfPZz6pAC7OI2Iy6TCpElQQFAqo4apj0PRuGI0g7GaeAKGfhxdyIydQjwZnRsaKeut+j//NExDMSmN54AVpgADE3+Vrea89C0YBiBEjsO2oFVYvR0bW9FYvD77PWsHDBWOGGJaUYNzs+YePISLS0FpgtoX4AaCST01YCkAEgRABQf2XEBB3izGUF4/f4nQwA9w4A//NExDsgsyqIAZhoAOWMH//ifkclB8HgPcJx//+YjzHoPQoOXDQh///f8TwOYMGFYBIApYkgXALmPcc49f////8c6hMwi4JGFgMcZYw5SHIAawq5TWXTDeKN//Vk//////NExAsVayLMAYIoAf////8/3Te5k6PyMdFOo07tUiKQYQWecjCaMAIfF1YcZDibhwOAOwgLoohIKBwOTCiIU5c4oCDw44wcQPCIdDo/YceKoKIIjjCAWvHwBwnMupMc//NExAgQKgbEAccQACzv/////pe6vVE9vldnRP/pv5bNVjaibohsuV2UrZjFEyoTWLA4DSJERCUzOlqoKgqStYInqviXTbH71HRQcJSjV+mesZNPdNvfNVFaguGO+MBE//NExBoR2bKsAMlQlNQDDE1D4vecBx6s1AoBMc6U4prFHin2wKBZdzE/6r/v/+//uvgcQFbO7////Qqz/40yKBQjxxlKdxsoxlwUbqKPC03iYHLcTCS3C42bikXOroNS//NExCUVOaqsANHWlF8Kh0PKSGIgfS1bxYIE7VIEKIJKYseDtfCn/E/6jW/DVm/A7IasGXKd/////r6kV+f+5okYYNv8ZQN1q83yYW8SBvMfxE3iQ/oA39Udp+XNIIAY//NExCMQEaq0AMlWlEA9z3COeZbASgT3bbRMv9rP91fxdfw2+dJU+sNaVZ6/h1sJmx0B2K0eIRpwkIDaWDFMdZPfRb0vqnevUPf6Tv5UuW2YD2Gq7M1G4zY9p02DaizI//NExDUQoR6gANQWcJcjkusFSJP2//////lVX/JGiugFis4ZzFgx129QmmICqbwNI0T+USnNFnVNYNdb/xbOt9qS7UvP1LK0oTKGAjCrAoCQYyIKBMsR/3HTz1ElDrBW//NExEUQYRJwANvGcCle0sK2CXl4y7rRKR05+HbHIatUvbPe497ZDgZSJDLS17nQ0L1gAQKPTKGPri/ai4IRyJRyvnnNMM/d+v7+x+yupRGFDAC9DijOqBIBE1DK3ow0//NExFYRIGpMAVgYAEf+fvz1a1wwXNEFBindxjHeuoxyrU6KNGSP6KiRWFiKepjNOMCAX13e6uYmXrRQjDYiMNpElKu5mJ6Z+I6JseRdxt3EVTVb8XXLtCUiHce3nqb1//NExGQcelJIAZlAAfS8X6WmwuH/+oZh6hKOM46FjAccEdAJQsND/y6pNe4RQ5BSnZYuepJpP3cO+7jvGia7/HFnilaKMoOhaJlBlkAoCAI2SwUALD7PEE/E4gBGePGe//NExEUgOyqsAYxAAIQY/2G6oWNMPIjcwQSiLJPitK//yBBhqdQ8J3KphAIEp7Z0Hz9Tdf/X/JoiGITURS6DPJQcHFxdl3jLH0s4Q8DfULYkIs1AqcC5yCk6iw5BO2rV//NExBcSSa6wAdNAAPC///9fy//1/Bj/vU3i4jG8u9XUi4Lx1qPDseTSQZbXeP2tBerXIM5D9//6d8ot1en0Kt//ZQDvI3YsQWKwjSVn/PALa8fb19fMN9fpWZmWtnOY//NExCASqaqwAMnYlDGWl5XAuNnobrzqsCwwNTaViwzWft30J/7y2dbf23nsWMLDvgwFl////03LerqswCfWgG03Q+EVqs5bHQLaq3Q328cfqc+r5/4S/pRPOmjBkNHa//NExCgR+aqwAMHSlRAGQKlpAGCdz10x5nwgXdcW5IpPXRsNJQXRRZTmlMn0z/uLth41qfgYsDB1cq3qJgCi/Jep3nevr5/M0mZynzN33HuXiWNAjGR4SCye0cYNScWv//NExDMSka6sAMqYlOYPrW663t5t2d1i627bCV2Jzn3f///m6v7+T2jyVXCNmBQHLU/+p2rYLy+3o+pn0Xw//nv9zZjkEZKyy2CwyJTiMmIRZJIyRIrbYWlWTVlTpq3G//NExDsRyaKsAMiSlHBDjCcgdNv////GilXetwYOYJjw3DkrPbgwE7L4bT2VcT0fm9erdP/9fzXfCOq1MHJwlvLh+s6oRSao6h2p+ofYxySNxdF1nZMLJ9vQs+r///74//NExEYRsa6kAMCWlE2vYw2ASoQV4s1pBECuw7SydVcFBx0nbRfT09vb1/9f3UswwXYVQFweA3DgQxRwuSHINhNnOY8SqdNy3F46LHGDVYfhzJYpwa6cffwKmOkVLHvZ//NExFIQEZKgAMKQlcyiLANHC5I41Djjv9Wm+tqUv/d321J1pNeOlJFw3ATAnHzQdzrPMJ0tr/4dt2tbHaR5U6CwlQU0qqyMxTjvkNkh4C2ReJQRcV2VReHQBAUOqVkO//NExGQRkZ6IAMHWlVKa7fu+66f//PFsrSbIqkA8IwseAK45ijsoWOQoOjK2nlHjr4B/+e//rQ5Ql1nrRy9LusqiLYoOiNSNX/7zCzlnrG/Z783JkVKRrZlOp5gtEaoX//NExHARsU5YAMlQlMseIpctzxU6s9UrPAktj5kylbHtqUtr8S9DmOXZ7y2vQq0upYsJrDIgqbJ3OjRBBf8dWHHo3bTc3eAiHsTVXZu99kObiIYt+t8dUA/GsGzRvu5z//NExHwSaNJEAVgYAP3Xk4hKdZL9381PbGPfqHSdnN0O/4jf0xlcsyPazDxf9zP/1qMqbnm4Y+Uyk8cOJuXNLP3/PX18/v/6/Z1VfDjc+834P7qPnE6tI2gby8UgyaGh//NExIUegyowAZpYAPkeEpPjUPQ0JIpCMsapFxkxGCYbnqjJRwchoxfcfRwAdTA2Mi+SQ8i+bvL7sQzzE4llkqo8UaSadtjZJN1Ipmr7pHk3bqapSlXdOZoMkzu5h+g3//NExF4h6yqoAYxoAHO30rGjaBcUXC+YHS+gganvp/+takU7sYIIG7p5ggZpOSZWS6Ulx5HiHac3e4Z2MZ/Z1b/xPss1DXtbaW08xVwdlpJXzUWysjX1+qr1f8LqvTek//NExCka+xqsAcJAAU0M+u6T/9pj4+GncbDOQkKJRVxYakPNINZKHltikDIgcIAmCprnqQDQJCweJqguH4gEA0kcJ0D4PKCofg8DQoSDDBCP////3//8qXpTAKp5v+f3//NExBAWix6sABBSvHn/u8v//1/V1Xr19v7t5//n/8/6blTcoRxjJRUQ5Ny9s5kVE2n4rNOUMMyqRBzQUMzC6K5oykpoDxEKSAnYJqSKkSIEQmImAaIUVQf9l//////L//NExAgT+yK4AAhKvBkWpf2Sn15/1/79af7JVKEJOQiqr5CCKQRVFUDqxlDoRqGIUOs8PjxM5jDQKLqpCxpwOzB0JCIsE1FAGBw8YFAUIgQPAgCiyA839HmT////4iEJ//NExAsU0wqsABBMua5IQhC+L92r/9//27//9p/nO7v8xqecet/2qef21VU7fJ7mkcclsy2nVXb48+c+c5J85ezLa1PBFjqk0iRmtkiAUWJVLwlUw2oCHATceGoJ6ztN//NExAoP6BKMABBGAF+0JPRciEDQbEa6VFh2rxKOKpeJXKUKCWk048eJDzDxMAgk8lW8WgIC4tKpFmvct5uVUtRU3RdEu8D79j/v+uf3/VP//kXED2nf/z9Tv9mJtTSv//NExB0RGAqMABhGAcjM/Ns1W8iYkwmUWnVMre7WFu/7jCupXeNHt/uQNT2kb4K0y03wQyqlKQ4x7gF4GmZawrwtABQIuHWzv9wHkTHpApelKeA8REcXPhElw4Bef1bC//NExCsSEQKkAHvQcJUNLvNxWWHxccwBOf2suuoARAck1gtXd///oo9SqrGXf3GRJROxGNSpYIzMFrcqnwKFVWaYV+7xYd8uaCZ3yQBMYLNZIPCJXFkiPfEoIitsSHQQ//NExDUQ4aK0ANIQlVJ6v///9X89pXqMGl3yat/vV1sRjxdbuVVPY4hYaTURNcVg6/hdP5Ul8jGT9AuVnZcC5XUkOwNRSZNUQRNqzgng5zzJOo19SD+mk3Wfa+SZJH0X//NExEQSgbqoANKalFpmLVgXFret/iKgTSiMqmq6OhwQzlV0NkQ16iT81ug6R8cGzdhFEz5UA4TyYckQ0BpNWgXAIQ+d1Z/p9W92/OruSvhr/////9dq76zHvEZ5aEhy//NExE0QubakANHUlPz8Osyd4FKBKqaDAMMMJCt/Os43r5+/eeUv68ZbeeSK49aipnoYIzIWIDbKriJ6uEiK7M98hEW1fJK/////OlkrFWnIKIymCmxssAEhwAA1SMFS//NExF0ScSKAANPScBQIAgKqQaVDOcq1jeaxfXX+c/v5dI5P78Zqoo2+rAJDxjWStMfd5HY/tln7//t19CouixBW9mCmIjUBvRuCIzXnJ63hvu9a/+4/+oKWaVdGqFJB//NExGYQyQJUANvGcOqSGnrnk3G1AK5grY1bal7fse7RrX12mv9yE+hFIVxNDV3COPZNHaeTMg8ITY7SWEwHaOUln5DJNx7m0kUvj3ODeXC+aFaDofkoShmSo8xhEScU//NExHUPgHZMAVgQAIlyWLP4BRjLL4XgxceYgIWoLUQhLVkz/mBofWmXzdBx9GY4MKfOj8o2//QrTfQSRN1mpaXzU2KZdHA5mkZ//+91NprTpvxvHgYGLzN0UjcyWb2///NExIoiKyqcAYxoAGZqbbAIFhGJBQKA4HpwEAQnwxJ7NA/kLw7vWG//fdfFIOZcy/9iBy+WMVbdPsoRhUkFgtJxCEgbDmeaSw9m46JPAjgULMvOjwocVNTxLeeZB9E0//NExFQggqKcAdpYATt0cNqY7e2LbV8sPO3PpWfaa1otmLq6/65r5ZXzTmw664PVlGqLcq8VYk7fRSLuGNxbZp15MdiFLAJgVJ1ySupvJABQPJ6tMlX/B2ve5Fv2cPcv//NExCUaybqgANLYlD69f+49l1ji89WtqxwB8RkYhj8AQXqVlCQSxJE8SyuRhFKhdXoKItOLKK07s+ngZUMNrnTphEeN2owxabv//8i5v92hSsaqxw3cYyGWOzAMHovH//NExAwU2a6sAMqYlCFsfkOWATBZzpL1RtF8403dux9az1+mfYhWrW1xaBEdRYDQRTJMqqbk0rD0Uiqu1WfxuvRvxwdA1BsH173U3OVa4bf///6CNf/+NbDlbMw7ZkUA//NExAsSoZqwAMoSlKiebHdoFtcuv7r/F/01e619td7kt3djGGPQoWUZIJjIEFSYUkLZpwiLJG0DXbhPKbq53kamrGNyWIpJP////rXLHJ0AsVc3rgNjEw7Opu+6bURN//NExBMRsZ6oANCSlEBbVOdv7GfT2////f/VxZmgFT0RAJxSZHmCI/UCZNWU7lr/W34+qXyrxeIoHv//////vkXW6imRiybu0UNLzB5Z+Y07am7TWULntnt3/n+7af/5//NExB8RcZqgANHQlP51i0QsQRGDgPxQBA0WOkTFCykCw6yjfy66U6pcY6OWGXhn////qddqJ/mBPRvBhZiZoYefmsqm730Aq2z6G9ep2p3VvX8fsuPNZpAEk6QBikJT//NExCwR8ZqcANHWlFLTQElGR3kqLhky97Leyl/ci22KogMe3///963W77uAcC5lqJj3Rx89jAF1+HhgXvL8/p76t06/n//gat2UMShHAiFBIGQ9DmzhFnLDglCprjib//NExDcSOZ6YANKQlGFV7XWixygW////jRQVG//70KOgmSVI3V3Sht9g/9PqllChhWDehOA+a8z3/v19v//4/evXpqSQYtLKJ46iHaqeHUxe0amZWIGSgIS0Igi7//////NExEERqV6MAMqWlEnbn/9PRaOngBnR/1RiHE0zqjSto5UDRksqorBOASfN6f1b////H/xMixVmh6AqJCkQLhzBwsPU2VWlVm65UcLAYFgqV////2Kkf/V1qi6aUabQ//NExE0RyX6AAMqQlFy5wCcQaSwwQkA4wmE37LYxmGAM48j/Tq3L6esvf8/NY8apVU9Gh0AsLqCoRkepJNDkq2WlqDvlaaG2goWFj+7///2VUSLwZVi6ZSz05mxMDeI4//NExFgSeaJkANFQlOo/XBV0E3RBZw4YIjrTQuyFSAqZRY+HUi0CzoCB0VARFWeYtW10CtZt1UXVUU9G6jSn9/HKBC0oHXe2Npiwww5MYNHKKmippJsdbaxi9qoU6S0K//NExGEQmE5MAMPSJMi6dlqss6YqfXaFB9oi8kVCZ3So6mDQM7A13raWPZYO9A0qp6HSqgpVC67uMNAXYF1hkkFgkSWNYkIOAu1Yw2weEw/Wfeo5VxUshgNlmou6xjyF//NExHERiIooAMIGTHDywPIMYUdHKrsEA1zUIQgk0ohDQ4cMtYoU7h64UiI8jmLUcxZnTWfB7Xd2tMtUinuOYfbKEqHVRdY+UGCiFmCShQQqmyYvUEI2HVpKbIPsALQ5//NExH0QwB4QAECCABGSADTL3ZF6HY8+pjwAoerP4HwPAmDWET/+XmfDBoCNv9cGlQxMF63YA6oBjS4BSP20ANCNAcSAKSA2Of7wsAAwEA0hYBw0DPh//wN6nAODAHEB//NExI0SWM4QAUMYADcFsCL//3HeK4OwPcDL47wtn//+QIZAqJoFgcB4ZD///8csrixkURJYcsd5u8q/////5Bzg5wtgssi5fcc8gQpQRoRcwlZnSMsWJZ4OIVYcl3Ca//NExJYh8yo8AZugAGwDljA4PybdLJONHmIPE0Yt6hUZFaMEJoSMwT2shGwCCgYMPnQqIIFztqg9bDhXCc79ecqnmeJ98VI5/DNyfvM8v6rpYj1OPVj//4Q+/fHayO17//NExGEiKyqoAYxIAG5k8eyRzMiAwLZSf8r//9Xf/+wlOeRmgjBzb/zSiAh0nijcuKw/AV24v+UKihQHTT/V7Q9KzMz6qow8RBOSK3KtOsHCEzKLLarbb1wytd3zVRFx//NExCsbexqoAcJAAfMTD09tH3bf7T6zH9RBTTVanFlOMicVQ6i5P3U6JsaMiD2LoaVesDCxILSNUQhxUFHqB0A1ERkFwVFA+sh6JBgnFy5Ev////3YPyab7L4p5H/////NExBAWSyKkAAhSvP/9338zfu553Xr7/f/2r+57/8r8b2vNRVKLWbKVxdTbW+OtpXbSbFq4hmzlzQTVaQkiWuMNCkoFycfaSfAgChdHshoSk5OAQknVDKv//////+cg//NExAkT4xqkABBQvS5OJ1V/9f///n+l/v+5+O4//4Xft+1UbURP3VvT1GZLOp883EDrH0MNlUEIY1kUKl0Ya4jnjRqB6JxKH7FiEeIoQjjbDTElk///9f///8X+//////NExAwQQxqsAAhEvftSn/rkv3f+qFvR6JJOZmOMp1V76o9Xc04IIdwqwBRiAgikQEBIEGcSEGFCSlYWCYYS4ANAEgf///zz////1///y/7OtLUqd99t//u7ZrI771Oh//NExB4RoxqoAAhKvYzL2E2O5CPcxiCRBpSGDooGUDgkIkCBXZQFFTgcooYTKFEEg4QNDx5lo/////z/+b5rLn/qR/L/tq1K+/r1p7dWRVtah3RmlIKO5ju8jrOR5H3Z//NExCoRsx6oAAhKvIgmjjzGHsKFYKFlZDCh2HjjCxggMOLjWMBxY4oRBIn///6/5/+//59/3////9R+ncTFp8fMX/8z/NTxjN4eIWNEuHv+EuZvJhYmHJh4WlGnppkU//NExDYRiyKoABBQvM7vaiIyqWOHFCPEiolBRGYqGP/2RrKv/////7/08//9PvVPzXZdlyftXrKzLzeZHdyrrSOU6GnRKOMIOzCxiqRHGHKUc4eQRKVyCQeBIdDqRIXZ//NExEIQoxaoAUIoAboNxWRVtpJIKiFFBtVbRs8qsNNVJjXFf/qfCuLi47X4c82mEQYw9Dw8XJtVQ9IJNKD9lZoborgrNoQKFxUcNiZe1h+YnWovxAgQw4PFRCD1UgPR//NExFIfowqQAYlAAYI5Kliokd96hv5WFrmRgoEtOoxwXg8ABB0RfJEw00VSTDSzSRgTfDTRXC55KjSOVKxtWDGXE2flVobbEXI4SiRU3Ukiw4UDpNRagz5ofNjo1MdR//NExCYcCqogAY9oAGV1sgbhyQuozB9Ui6VL8T0uEuSSzIyo1oI+vlIdo7TRy9MnXWyq//soyNyVQREmE+L4/JdlOpfb/9I6iiZEkblSjYkSRQK77t311RMiStLUpW73//NExAgSUTH8Ac8YAJpWRpZZI7hHgQpcZ1PNbEdBS8uZDkfAYSPL+RsWUoR090dDjuQpRHNmRVcK6hcMoekCniwsOJGqXqat1YqZ62LFVQF0WQdZWmUcq85uL2SG4Mz0//NExBESWU28AHjGlBOhMqDq1kP2pCgoWOg6tZDL8mWoZNYa2WGX9/8mCg0DwFZ6xY0KgIJiplzeAgmGQELfF+Pb/W3i6kxBTUUzLjEwMKqqqqqqqqqqqqqqTEFNRTMu//NExBoAAANIAAAAADEwMKqqqqqqqqqqqqqqqqqqqqqqqqqqqqqqqqqqqqqqqqqqqqqqqqqqqqqqqqqqqqqqqqqqqqqqqqqqqqqqqqqqqqqqqqqqqqqqqqqqTEFNRTMu//NExG0AAANIAAAAADEwMKqqqqqqqqqqqqqqqqqqqqqqqqqqqqqqqqqqqqqqqqqqqqqqqqqqqqqqqqqqqqqqqqqqqqqqqqqqqqqqqqqqqqqqqqqqqqqqqqqqTEFNRTMu//NExKwAAANIAAAAADEwMKqqqqqqqqqqqqqqqqqqqqqqqqqqqqqqqqqqqqqqqqqqqqqqqqqqqqqqqqqqqqqqqqqqqqqqqqqqqqqqqqqqqqqqqqqqqqqqqqqqTEFNRTMu//NExKwAAANIAAAAADEwMKqqqqqqqqqqqqqqqqqqqqqqqqqqqqqqqqqqqqqqqqqqqqqqqqqqqqqqqqqqqqqqqqqqqqqqqqqqqqqqqqqqqqqqqqqqqqqqqqqqTEFNRTMu//NExKwAAANIAAAAADEwMKqqqqqqqqqqqqqqqqqqqqqqqqqqqqqqqqqqqqqqqqqqqqqqqqqqqqqqqqqqqqqqqqqqqqqqqqqqqqqqqqqqqqqqqqqqqqqqqqqqTEFNRTMu//NExKwAAANIAAAAADEwMKqqqqqqqqqqqqqqqqqqqqqqqqqqqqqqqqqqqqqqqqqqqqqqqqqqqqqqqqqqqqqqqqqqqqqqqqqqqqqqqqqqqqqqqqqqqqqqqqqqTEFNRTMu//NExKwAAANIAAAAADEwMKqqqqqqqqqqqqqqqqqqqqqqqqqqqqqqqqqqqqqqqqqqqqqqqqqqqqqqqqqqqqqqqqqqqqqqqqqqqqqqqqqqqqqqqqqqqqqqqqqqTEFNRTMu//NExKwAAANIAAAAADEwMKqqqqqqqqqqqqqqqqqqqqqqqqqqqqqqqqqqqqqqqqqqqqqqqqqqqqqqqqqqqqqqqqqqqqqqqqqqqqqqqqqqqqqqqqqqqqqqqqqqTEFNRTMu//NExKwAAANIAAAAADEwMKqqqqqqqqqqqqqqqqqqqqqqqqqqqqqqqqqqqqqqqqqqqqqqqqqqqqqqqqqqqqqqqqqqqqqqqqqqqqqqqqqqqqqqqqqqqqqqqqqqTEFNRTMu//NExKwAAANIAAAAADEwMKqqqqqqqqqqqqqqqqqqqqqqqqqqqqqqqqqqqqqqqqqqqqqqqqqqqqqqqqqqqqqqqqqqqqqqqqqqqqqqqqqqqqqqqqqqqqqqqqqqOh88VD2H//NExKwAAANIAAAAAAnIf0PsE9kjvnNTIG2GoycogeqPtgtg6SziaM+McdMUoFSi1xFgGXgKg0SzCQITCzoYUPGkyYsgEPARAaUcChKQpRKKADQy9BccvYm8oCn0nCoW//NExKwAAANIAAAAAJmJrpEJzqdtaaa3zUGhtMZe1iqdZWy+VK2AQRkICgMEnn0TkQccxlbE3fja5DjBzj/c5DkIIQgl7mpDQUERgUEzA8eKxkay/kHIWQg0FBBOc00P//NExKwAAANIAAAAAGfDGr2ePuAwKyJ833+/7uHAwMW6AAAiIEABB++iImiInT/oGLiFpu5oX130AAAARz/4VRERP/dz89Hf3dw4GIpwv/d//dIEACD6E9AWQFkASgxV//NExP8a0PyYAM5wcGHUcwQIB1K0bxYtooykyTlWe0QwBQCqWlzuLoTFxchiS9XLMraLrnQlCUfLjJ5l2Zll3LbXVrtWQESpfGOBhVDMoCqlq2sAgJmNmZmbasdgZqpa//NExOYiYwnkAMPGua7arFVV+l8P4dL/4xxV9V4xfsxrAESxrt6kzfqSk1VAIVUEg5IQnlIgjUGoaA8GooHMwMzhOUh6LpcOwAWjggwMI5H1gwMRhl3FhYVFXLFBb6hY//NExK8fWxXwAHsGuFxUVFRUWbFhcVFRUVFhb//qFWam6hWKiooLCwsLCoqKiooLEkxBTUUzLjEwMFVVVVVVVVVVVVVVVVVVVVVVVVVVVVVVVVVVVVVVVVVVVVVVVVVV//NExIQVQJlIAGMGTFVVVVVVVVVVVVVVVVVVVVVVVVVVVVVVVVVVVVVVVVVVVVVVVVVVVVVVVVVVVVVVVVVVVVVVVVVVVVVVVVVVVVVVVVVVVVVVVVVVVVVVVVVVVVVV\" type=\"audio/mpeg\" />\n",
              "                    Your browser does not support the audio element.\n",
              "                </audio>\n",
              "              "
            ]
          },
          "metadata": {},
          "execution_count": 5
        }
      ]
    },
    {
      "cell_type": "code",
      "source": [
        "pip install gtts"
      ],
      "metadata": {
        "colab": {
          "base_uri": "https://localhost:8080/"
        },
        "id": "1819KouOWjHj",
        "outputId": "d56e4792-bc22-4e18-8693-833c3e5f29c6"
      },
      "execution_count": null,
      "outputs": [
        {
          "output_type": "stream",
          "name": "stdout",
          "text": [
            "Looking in indexes: https://pypi.org/simple, https://us-python.pkg.dev/colab-wheels/public/simple/\n",
            "Collecting gtts\n",
            "  Downloading gTTS-2.2.4-py3-none-any.whl (26 kB)\n",
            "Requirement already satisfied: six in /usr/local/lib/python3.7/dist-packages (from gtts) (1.15.0)\n",
            "Requirement already satisfied: requests in /usr/local/lib/python3.7/dist-packages (from gtts) (2.23.0)\n",
            "Requirement already satisfied: click in /usr/local/lib/python3.7/dist-packages (from gtts) (7.1.2)\n",
            "Requirement already satisfied: chardet<4,>=3.0.2 in /usr/local/lib/python3.7/dist-packages (from requests->gtts) (3.0.4)\n",
            "Requirement already satisfied: idna<3,>=2.5 in /usr/local/lib/python3.7/dist-packages (from requests->gtts) (2.10)\n",
            "Requirement already satisfied: certifi>=2017.4.17 in /usr/local/lib/python3.7/dist-packages (from requests->gtts) (2022.6.15)\n",
            "Requirement already satisfied: urllib3!=1.25.0,!=1.25.1,<1.26,>=1.21.1 in /usr/local/lib/python3.7/dist-packages (from requests->gtts) (1.24.3)\n",
            "Installing collected packages: gtts\n",
            "Successfully installed gtts-2.2.4\n"
          ]
        }
      ]
    }
  ]
}